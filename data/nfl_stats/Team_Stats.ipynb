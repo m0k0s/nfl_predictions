{
 "cells": [
  {
   "cell_type": "code",
   "execution_count": 25,
   "metadata": {},
   "outputs": [],
   "source": [
    "import numpy as np\n",
    "import pandas as pd"
   ]
  },
  {
   "cell_type": "code",
   "execution_count": 26,
   "metadata": {},
   "outputs": [],
   "source": [
    "# 2017 Stats\n",
    "offense_2017 = pd.read_csv('offense_total_2017.csv')\n",
    "defense_2017 = pd.read_csv('defense_total_2017.csv')"
   ]
  },
  {
   "cell_type": "code",
   "execution_count": 27,
   "metadata": {},
   "outputs": [],
   "source": [
    "# 2016 Stats\n",
    "offense_2016 = pd.read_csv('offense_total_2016.csv')\n",
    "defense_2016 = pd.read_csv('defense_total_2016.csv')"
   ]
  },
  {
   "cell_type": "code",
   "execution_count": 28,
   "metadata": {},
   "outputs": [],
   "source": [
    "# 2015 Stats\n",
    "offense_2015 = pd.read_csv('offense_total_2015.csv')\n",
    "defense_2015 = pd.read_csv('defense_total_2015.csv')"
   ]
  },
  {
   "cell_type": "code",
   "execution_count": 29,
   "metadata": {},
   "outputs": [],
   "source": [
    "# 2014 Stats\n",
    "offense_2014 = pd.read_csv('offense_total_2014.csv')\n",
    "defense_2014 = pd.read_csv('defense_total_2014.csv')"
   ]
  },
  {
   "cell_type": "code",
   "execution_count": 30,
   "metadata": {},
   "outputs": [],
   "source": [
    "# 2014 Stats\n",
    "offense_2014 = pd.read_csv('offense_total_2014.csv')\n",
    "defense_2014 = pd.read_csv('defense_total_2014.csv')"
   ]
  },
  {
   "cell_type": "code",
   "execution_count": 116,
   "metadata": {},
   "outputs": [],
   "source": [
    "# 2013 Stats\n",
    "offense_2013 = pd.read_csv('offense_total_2013.csv')\n",
    "defense_2013 = pd.read_csv('defense_total_2013.csv')\n",
    "pre_practice_df = defense_2013.merge(defense_2014, how='outer').merge(defense_2015, how='outer').merge(defense_2016, how='outer')\n",
    "practice_df = pre_practice_df[['RK', 'YDS', 'YDS/G', 'PASS', 'P YDS/G', 'RUSH', 'R YDS/G', 'PTS', 'PTS/G', 'Won SB']]"
   ]
  },
  {
   "cell_type": "code",
   "execution_count": 102,
   "metadata": {},
   "outputs": [],
   "source": [
    "from sklearn.model_selection import train_test_split as tts\n",
    "\n",
    "features_df = practice_df.columns[:9]\n",
    "labels_df = practice_df.columns[9]\n",
    "\n",
    "train_feats, test_feats, train_labels, test_labels = tts(practice_df[features_df], practice_df[labels_df], test_size=0.20)"
   ]
  },
  {
   "cell_type": "code",
   "execution_count": 108,
   "metadata": {},
   "outputs": [
    {
     "data": {
      "text/plain": [
       "RandomForestClassifier(bootstrap=True, class_weight=None, criterion='gini',\n",
       "            max_depth=None, max_features='auto', max_leaf_nodes=None,\n",
       "            min_impurity_decrease=0.0, min_impurity_split=None,\n",
       "            min_samples_leaf=1, min_samples_split=2,\n",
       "            min_weight_fraction_leaf=0.0, n_estimators=10, n_jobs=10,\n",
       "            oob_score=False, random_state=0, verbose=0, warm_start=False)"
      ]
     },
     "execution_count": 108,
     "metadata": {},
     "output_type": "execute_result"
    }
   ],
   "source": [
    "from sklearn.ensemble import RandomForestClassifier\n",
    "\n",
    "clf = RandomForestClassifier(n_jobs=10, random_state=0)\n",
    "clf.fit(train_feats, train_labels)"
   ]
  },
  {
   "cell_type": "code",
   "execution_count": 109,
   "metadata": {},
   "outputs": [
    {
     "data": {
      "text/plain": [
       "array([1, 0, 0, 0, 0, 0, 0, 0, 0, 0, 0, 0, 0, 0, 0, 0, 0, 0, 0, 0, 0, 0,\n",
       "       0, 0, 0, 0])"
      ]
     },
     "execution_count": 109,
     "metadata": {},
     "output_type": "execute_result"
    }
   ],
   "source": [
    "predictions = clf.predict(test_feats)\n",
    "predictions"
   ]
  },
  {
   "cell_type": "code",
   "execution_count": 111,
   "metadata": {},
   "outputs": [],
   "source": [
    "# Calculating Score\n",
    "score = 0\n",
    "\n",
    "for x in range(len(predictions)):\n",
    "    if predictions[x] == test_labels.values[x]:\n",
    "        score = score + 1"
   ]
  },
  {
   "cell_type": "code",
   "execution_count": 107,
   "metadata": {},
   "outputs": [
    {
     "data": {
      "text/plain": [
       "0.9230769230769231"
      ]
     },
     "execution_count": 107,
     "metadata": {},
     "output_type": "execute_result"
    }
   ],
   "source": [
    "grade = (score / len(predictions))\n",
    "grade"
   ]
  },
  {
   "cell_type": "code",
   "execution_count": 112,
   "metadata": {},
   "outputs": [
    {
     "data": {
      "text/plain": [
       "[('RK', 0.061466397654367545),\n",
       " ('YDS', 0.05230513051305121),\n",
       " ('YDS/G', 0.12130066970177159),\n",
       " ('PASS', 0.004084598955861409),\n",
       " ('P YDS/G', 0.07664780763790677),\n",
       " ('RUSH', 0.10997509708336768),\n",
       " ('R YDS/G', 0.050333527472166),\n",
       " ('PTS', 0.22388677098150783),\n",
       " ('PTS/G', 0.1)]"
      ]
     },
     "execution_count": 112,
     "metadata": {},
     "output_type": "execute_result"
    }
   ],
   "source": [
    "list(zip(train_feats, clf.feature_importances_))"
   ]
  },
  {
   "cell_type": "code",
   "execution_count": null,
   "metadata": {},
   "outputs": [],
   "source": []
  }
 ],
 "metadata": {
  "kernelspec": {
   "display_name": "Python 3",
   "language": "python",
   "name": "python3"
  },
  "language_info": {
   "codemirror_mode": {
    "name": "ipython",
    "version": 3
   },
   "file_extension": ".py",
   "mimetype": "text/x-python",
   "name": "python",
   "nbconvert_exporter": "python",
   "pygments_lexer": "ipython3",
   "version": "3.6.4"
  }
 },
 "nbformat": 4,
 "nbformat_minor": 2
}
